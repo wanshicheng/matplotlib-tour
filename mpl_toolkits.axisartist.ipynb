{
 "cells": [
  {
   "cell_type": "markdown",
   "metadata": {},
   "source": [
    "# 概述"
   ]
  },
  {
   "cell_type": "code",
   "execution_count": null,
   "metadata": {},
   "outputs": [],
   "source": []
  },
  {
   "cell_type": "markdown",
   "metadata": {},
   "source": [
    "# axes\n",
    "创建一个 axes"
   ]
  },
  {
   "cell_type": "code",
   "execution_count": 26,
   "metadata": {},
   "outputs": [
    {
     "data": {
      "image/png": "[encoded data removed]",
      "text/plain": [
       "<matplotlib.figure.Figure at 0x10f8a5400>"
      ]
     },
     "metadata": {},
     "output_type": "display_data"
    }
   ],
   "source": [
    "import matplotlib.pyplot as plt\n",
    "import mpl_toolkits.axisartist as AA\n",
    "\n",
    "fig = plt.figure()\n",
    "\n",
    "ax = AA.Axes(fig, [0.1, 0.1, 0.8, 0.8])\n",
    "fig.add_axes(ax)\n",
    "\n",
    "# 你可以隐藏右边和上边的 spines(在 axisartist 中 spines 称为 axis)\n",
    "ax.axis[\"right\"].set_visible(False)\n",
    "ax.axis[\"top\"].set_visible(False)\n",
    "\n",
    "plt.show()"
   ]
  },
  {
   "cell_type": "markdown",
   "metadata": {},
   "source": [
    "创建多个 axes"
   ]
  },
  {
   "cell_type": "code",
   "execution_count": 34,
   "metadata": {},
   "outputs": [
    {
     "data": {
      "image/png": "[encoded data removed]",
      "text/plain": [
       "<matplotlib.figure.Figure at 0x10f90d470>"
      ]
     },
     "metadata": {},
     "output_type": "display_data"
    }
   ],
   "source": [
    "import matplotlib.pyplot as plt\n",
    "import mpl_toolkits.axisartist as AA\n",
    "\n",
    "fig = plt.figure()\n",
    "\n",
    "ax = AA.Subplot(fig, 121)\n",
    "fig.add_subplot(ax)\n",
    "ax.axis[\"right\"].set_visible(False)\n",
    "ax.axis[\"top\"].set_visible(False)\n",
    "\n",
    "ax = AA.Subplot(fig, 122)\n",
    "fig.add_subplot(ax)\n",
    "ax.set_xlim(-1, 1)\n",
    "\n",
    "plt.show()"
   ]
  },
  {
   "cell_type": "markdown",
   "metadata": {},
   "source": [
    "还可以添加水平轴。例如，可以在点 y=0 处设置一个横轴（在 data coordinate 上）。"
   ]
  },
  {
   "cell_type": "code",
   "execution_count": 33,
   "metadata": {},
   "outputs": [
    {
     "data": {
      "image/png": "[encoded data removed]",
      "text/plain": [
       "<matplotlib.figure.Figure at 0x10f8ee7f0>"
      ]
     },
     "metadata": {},
     "output_type": "display_data"
    }
   ],
   "source": [
    "import matplotlib.pyplot as plt\n",
    "import mpl_toolkits.axisartist as AA\n",
    "\n",
    "fig = plt.figure()\n",
    "\n",
    "ax = AA.Subplot(fig, 111)\n",
    "fig.add_subplot(ax)\n",
    "ax.axis[\"right\", 'top', 'bottom'].set_visible(False)\n",
    "ax.axis[\"y=0\"] = ax.new_floating_axis(nth_coord=0, value=0)\n",
    "\n",
    "ax.set_ylim(-2, 4)\n",
    "\n",
    "plt.show()"
   ]
  },
  {
   "cell_type": "markdown",
   "metadata": {},
   "source": [
    "带有偏移的固定 axis"
   ]
  },
  {
   "cell_type": "code",
   "execution_count": 67,
   "metadata": {},
   "outputs": [
    {
     "data": {
      "image/png": "[encoded data removed]",
      "text/plain": [
       "<matplotlib.figure.Figure at 0x108b49668>"
      ]
     },
     "metadata": {},
     "output_type": "display_data"
    }
   ],
   "source": [
    "import matplotlib.pyplot as plt\n",
    "import mpl_toolkits.axisartist as AA\n",
    "\n",
    "fig = plt.figure()\n",
    "\n",
    "ax = AA.Subplot(fig, 111)\n",
    "fig.add_subplot(ax)\n",
    "ax.axis['top', \"left\", 'right'].set_visible(False)\n",
    "ax.axis[\"right2\"] = ax.new_fixed_axis(loc=\"right\", offset=(20, 0))\n",
    "\n",
    "ax.set_ylim(-2, 4)\n",
    "ax.axis['right2'].set_label('x')\n",
    "\n",
    "plt.show()"
   ]
  },
  {
   "cell_type": "code",
   "execution_count": null,
   "metadata": {},
   "outputs": [],
   "source": []
  },
  {
   "cell_type": "code",
   "execution_count": null,
   "metadata": {},
   "outputs": [],
   "source": []
  },
  {
   "cell_type": "code",
   "execution_count": null,
   "metadata": {},
   "outputs": [],
   "source": []
  }
 ],
 "metadata": {
  "kernelspec": {
   "display_name": "Python 3",
   "language": "python",
   "name": "python3"
  },
  "language_info": {
   "codemirror_mode": {
    "name": "ipython",
    "version": 3
   },
   "file_extension": ".py",
   "mimetype": "text/x-python",
   "name": "python",
   "nbconvert_exporter": "python",
   "pygments_lexer": "ipython3",
   "version": "3.6.3"
  }
 },
 "nbformat": 4,
 "nbformat_minor": 2
}
